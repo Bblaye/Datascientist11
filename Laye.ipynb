{
 "cells": [
  {
   "cell_type": "markdown",
   "metadata": {},
   "source": [
    "# EXERCICE 1"
   ]
  },
  {
   "cell_type": "code",
   "execution_count": null,
   "metadata": {},
   "outputs": [],
   "source": [
    "NOMBRE_1=int(input(\"Entrez le premier nombre : \"))\n",
    "NOMBRE_2=int(input(\"Entrez le deuxième nombre : \"))\n",
    "NOMBRE_3=int(input(\"Entrez le troisième nombre : \"))\n",
    "if NOMBRE_1>NOMBRE_2:\n",
    "    max=NOMBRE_1\n",
    "    if NOMBRE_2>NOMBRE_3:\n",
    "        max=NOMBRE_2\n",
    "    if NOMBRE_1>NOMBRE_3:\n",
    "        max=NOMBRE_1\n",
    "else:\n",
    "    max=NOMBRE_3\n",
    "    print(\"Le nombre maximum est \",max)"
   ]
  },
  {
   "cell_type": "markdown",
   "metadata": {},
   "source": [
    "# EXERCICE 2"
   ]
  },
  {
   "cell_type": "code",
   "execution_count": null,
   "metadata": {},
   "outputs": [],
   "source": [
    "alphabet=input(\"verifiez si cet alphabet est une cosonne ou une voyelle : \")\n",
    "if alphabet==(\"a\" or alphabet==\"o\" or alphabet==\"u\" or alphabet==\"i\" or alphabet==\"e\" or alphabet==\"y\") or (\"A\" or alphabet==\"O\" or alphabet==\"U\" or alphabet==\"I\" or alphabet==\"E\" or alphabet==\"Y\"):\n",
    "    print(\"c'est une voyelle\")\n",
    "else:\n",
    "    print(\"c'est une consonne\")"
   ]
  },
  {
   "cell_type": "markdown",
   "metadata": {},
   "source": [
    "# EXERCICE 3"
   ]
  },
  {
   "cell_type": "code",
   "execution_count": null,
   "metadata": {},
   "outputs": [],
   "source": [
    "jour=input(\"Entrez les jours de la semaine : \")\n",
    "if jour==\"Lundi\":\n",
    "    print(\"jour No 1\")\n",
    "elif jour==\"Mardi\":\n",
    "    print(\"jour No 2\")\n",
    "elif jour==\"Mercredi\":\n",
    "    print(\"jour No 3\")\n",
    "elif jour==\"Jeudi\":\n",
    "    print(\"jour No 4\")\n",
    "elif jour==\"Vendredi\":\n",
    "    print(\"jour No 5\")\n",
    "elif jour==\"Samedi\":\n",
    "    print(\"jour No 6\")\n",
    "elif jour==\"Dimanche\":\n",
    "    print(\"jour No 7\")\n"
   ]
  },
  {
   "cell_type": "markdown",
   "metadata": {},
   "source": [
    "# EXERCICE 4"
   ]
  },
  {
   "cell_type": "code",
   "execution_count": null,
   "metadata": {},
   "outputs": [],
   "source": [
    "PDF=int(input(\"Prix De Fabrication : \"))\n",
    "PDV=int(input(\"Prix De Vente : \"))\n",
    "if PDF>PDV:\n",
    "    print(\"Perte\")\n",
    "else:\n",
    "    print(\"Bénéfice\")"
   ]
  },
  {
   "cell_type": "markdown",
   "metadata": {},
   "source": [
    "# EXERCICE 5"
   ]
  },
  {
   "cell_type": "code",
   "execution_count": null,
   "metadata": {},
   "outputs": [],
   "source": [
    "Année=int(input(\"Renseignez l'année : \"))\n",
    "if Année==366:\n",
    "    print(\"l'année est bissextile\")\n",
    "if (Année%4==0 or Année%400==0) and Année%100!=0 :\n",
    "    print(\"l'année est bissextile\")\n",
    "else:\n",
    "    print(\"l'année n'est pas bissextile\")"
   ]
  },
  {
   "cell_type": "markdown",
   "metadata": {},
   "source": [
    "# EXERCICE 6"
   ]
  },
  {
   "cell_type": "code",
   "execution_count": null,
   "metadata": {},
   "outputs": [],
   "source": [
    "A=int(input(\"Veuillez saisir le nombre de ligne : \"))\n",
    "for i in range(1,A+1):\n",
    "    for j in range(i):\n",
    "        print(\"*\", end=\"\")\n",
    "    print(\"\")"
   ]
  },
  {
   "cell_type": "markdown",
   "metadata": {},
   "source": [
    "# EXERCICE 7"
   ]
  },
  {
   "cell_type": "code",
   "execution_count": null,
   "metadata": {},
   "outputs": [],
   "source": [
    "m=\"informatique\"\n",
    "a=len(m)\n",
    "nbvoyelle=0\n",
    "for i in range(0,a):\n",
    "    if m[i] in [\"a\", \"o\", \"u\", \"i\", \"e\"]:\n",
    "        nbvoyelle+=1\n",
    "print(\"le mot\",m,\"contient\",nbvoyelle,\"voyelles\")"
   ]
  },
  {
   "cell_type": "markdown",
   "metadata": {},
   "source": [
    "# EXERCICE 8"
   ]
  },
  {
   "cell_type": "code",
   "execution_count": null,
   "metadata": {},
   "outputs": [],
   "source": [
    "c=1\n",
    "for i in range(18,0,-1):\n",
    "    print(i,end=\"\\t\")\n",
    "    if c%3==0:\n",
    "        print()\n",
    "    c=c+1"
   ]
  },
  {
   "cell_type": "markdown",
   "metadata": {},
   "source": [
    "# EXERCICE 9"
   ]
  },
  {
   "cell_type": "code",
   "execution_count": null,
   "metadata": {},
   "outputs": [],
   "source": [
    "Note1=float(input(\"Entrez la note n°1 : \"))\n",
    "Note2=float(input(\"Entrez la note n°2 : \"))\n",
    "Note3=float(input(\"Entrez la note n°3 : \"))\n",
    "Note4=float(input(\"Entrez la note n°4 : \"))\n",
    "Note5=float(input(\"Entrez la note n°5 : \"))\n",
    "Note6=float(input(\"Entrez la note n°6 : \"))\n",
    "Note7=float(input(\"Entrez la note n°7 : \"))\n",
    "Note8=float(input(\"Entrez la note n°8 : \"))\n",
    "Note9=float(input(\"Entrez la note n°9 : \"))\n",
    "Note10=float(input(\"Entrez la note n°10 : \"))\n",
    "s=Note1+Note2+Note3+Note4+Note5+Note6+Note7+Note8+Note9+Note10\n",
    "moy=s/10\n",
    "print(\"la moyenne est : \",moy,)"
   ]
  },
  {
   "cell_type": "markdown",
   "metadata": {},
   "source": [
    "# EXERCICE 10"
   ]
  },
  {
   "cell_type": "code",
   "execution_count": null,
   "metadata": {},
   "outputs": [],
   "source": [
    "print(\"Répondez par oui par non !\")\n",
    "Réponse=input(\"Etes-vous majeur? : \")\n",
    "if (Réponse==\"oui\") or (Réponse==\"non\"):\n",
    "    print(\"Merci, à bientot. \")\n",
    "elif (Réponse!=\"oui\") or (Réponse!=\"non\"):\n",
    "    print(\"Vous devez répondre par oui par non !\")\n",
    "    input(\"Etes-vous majeur? : \")\n",
    "    print(\"Merci, à bientot. \")\n"
   ]
  },
  {
   "cell_type": "markdown",
   "metadata": {},
   "source": [
    "# EXERCICE 11"
   ]
  },
  {
   "cell_type": "code",
   "execution_count": null,
   "metadata": {},
   "outputs": [],
   "source": [
    "import random \n",
    "n=random.randint(1,100)# 5\n",
    "NombreTentatives=5\n",
    "print(\"L'ordinateur a choisis un nombre compris entre 1 et 100. A vous de le deviner rn 5 tentatives\")\n",
    "while NombreTentatives>0:\n",
    "    NombreTentatives-=1 # 4 3\n",
    "    var=int(input(\"Entrez un nombre : \")) # 10 5\n",
    "    if var>n:\n",
    "        print(\"Le nombre saisi est supérieur à l'entier\")\n",
    "        input(\"Choisissez un autre : \")\n",
    "    elif var<n:\n",
    "        print(\"Le nombre saisi est inférieur à l'entier\")\n",
    "        input(\"Choisissez un autre : \")\n",
    "    else:\n",
    "        break\n",
    "        \n",
    "    if NombreTentatives!=0:\n",
    "        print(\"Félicitations, vous avez trouvé\",var,\"en\",5-NombreTentatives,\"essais\")\n",
    "    else:\n",
    "        print(\"Désolé vous avez dépassé les 5 tentatives autoriséés.Le nombre était : \",n)\n",
    "\n",
    "\n"
   ]
  }
 ],
 "metadata": {
  "kernelspec": {
   "display_name": "Python 3",
   "language": "python",
   "name": "python3"
  },
  "language_info": {
   "codemirror_mode": {
    "name": "ipython",
    "version": 3
   },
   "file_extension": ".py",
   "mimetype": "text/x-python",
   "name": "python",
   "nbconvert_exporter": "python",
   "pygments_lexer": "ipython3",
   "version": "3.8.3"
  }
 },
 "nbformat": 4,
 "nbformat_minor": 4
}
